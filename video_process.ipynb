{
 "cells": [
  {
   "cell_type": "code",
   "execution_count": 1,
   "metadata": {
    "scrolled": true
   },
   "outputs": [],
   "source": [
    "import numpy as np \n",
    "import cv2\n",
    "import os\n",
    "\n",
    "import imageio\n",
    "imageio.plugins.ffmpeg.download()\n",
    "from moviepy.editor import *\n",
    "\n",
    "def crop_resize_image(image):\n",
    "    height = image.shape[0]  # 720\n",
    "    width = image.shape[1]  # 1280\n",
    "    offset = 196\n",
    "    tmp_height = 350\n",
    "    cropped_image = image[offset: offset + tmp_height][:]\n",
    "    \n",
    "    # 576 x 160\n",
    "    new_height = 160\n",
    "    new_width = 576\n",
    "    scaled_image = cv2.resize(cropped_image, (new_width, new_height))\n",
    "    \n",
    "    return scaled_image\n",
    "\n",
    "clip = VideoFileClip('video/original_video.mp4')\n",
    "processed_clip = clip.fl_image(crop_resize_image)\n",
    "processed_clip.write_videofile('video/road_video.mp4', audio=False)"
   ]
  },
  {
   "cell_type": "code",
   "execution_count": 7,
   "metadata": {},
   "outputs": [],
   "source": [
    "# Convert video to images\n",
    "if not os.path.exists(VIDEO_IMG_DIR):\n",
    "    os.makedirs(VIDEO_IMG_DIR)\n",
    "\n",
    "count = 0\n",
    "cap = cv2.VideoCapture('video/road_video.mp4')\n",
    "ret, image = cap.read()\n",
    "while ret:\n",
    "    cv2.imwrite(os.path.join('video/road_images', 'frame{0:04d}.png'.format(count)), image)     # save frame as JPEG file      \n",
    "    ret, image =  cap.read()\n",
    "    count += 1"
   ]
  },
  {
   "cell_type": "code",
   "execution_count": 14,
   "metadata": {},
   "outputs": [
    {
     "name": "stdout",
     "output_type": "stream",
     "text": [
      "[MoviePy] >>>> Building video inferenced_road_video.mp4\n",
      "[MoviePy] Writing video inferenced_road_video.mp4\n"
     ]
    },
    {
     "name": "stderr",
     "output_type": "stream",
     "text": [
      "100%|██████████| 642/642 [00:04<00:00, 160.17it/s]\n"
     ]
    },
    {
     "name": "stdout",
     "output_type": "stream",
     "text": [
      "[MoviePy] Done.\n",
      "[MoviePy] >>>> Video ready: inferenced_road_video.mp4 \n",
      "\n"
     ]
    }
   ],
   "source": [
    "# Convert images back to video\n",
    "clips = ImageSequenceClip('video/inferenced_iamges', fps=24)\n",
    "clips.write_videofile('inferenced_video.mp4', fps=24)"
   ]
  },
  {
   "cell_type": "code",
   "execution_count": null,
   "metadata": {},
   "outputs": [],
   "source": []
  }
 ],
 "metadata": {
  "kernelspec": {
   "display_name": "Python 3",
   "language": "python",
   "name": "python3"
  },
  "language_info": {
   "codemirror_mode": {
    "name": "ipython",
    "version": 3
   },
   "file_extension": ".py",
   "mimetype": "text/x-python",
   "name": "python",
   "nbconvert_exporter": "python",
   "pygments_lexer": "ipython3",
   "version": "3.5.2"
  },
  "widgets": {
   "state": {},
   "version": "1.1.2"
  }
 },
 "nbformat": 4,
 "nbformat_minor": 2
}
